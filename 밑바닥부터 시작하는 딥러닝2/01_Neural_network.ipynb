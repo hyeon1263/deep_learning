{
  "nbformat": 4,
  "nbformat_minor": 0,
  "metadata": {
    "colab": {
      "name": "01. Neural network",
      "provenance": [],
      "collapsed_sections": []
    },
    "kernelspec": {
      "name": "python3",
      "display_name": "Python 3"
    },
    "language_info": {
      "name": "python"
    }
  },
  "cells": [
    {
      "cell_type": "markdown",
      "metadata": {
        "id": "1tDu_WevvSjc"
      },
      "source": [
        "# 1.1 수학과 파이썬 복습"
      ]
    },
    {
      "cell_type": "markdown",
      "metadata": {
        "id": "IPrNu5sFwCxQ"
      },
      "source": [
        "## 1.1.1 벡터와 행렬 "
      ]
    },
    {
      "cell_type": "markdown",
      "metadata": {
        "id": "1h0Mbd8RwFf3"
      },
      "source": [
        "* 벡터 \n",
        "<br> 크기와 방향을 가진 양 \n",
        "<br> 1차원 배열로 표현 가능\n",
        "\n",
        "* 행렬\n",
        "<br> 2차원 배열로 표현 가능\n",
        "\n",
        "* 텐서\n",
        "<br> 벡터와 행렬을 확장하여 N차원 배열로 표현한 것 "
      ]
    },
    {
      "cell_type": "code",
      "metadata": {
        "colab": {
          "base_uri": "https://localhost:8080/"
        },
        "id": "hz7YbTtmuzRA",
        "outputId": "50a3efd8-a775-4b4c-a820-8a4d35267b62"
      },
      "source": [
        "import numpy as np\n",
        "\n",
        "x = np.array([1, 2, 3])     # 벡터 생성\n",
        "x. __class__        # 클래스 이름 표시 "
      ],
      "execution_count": 1,
      "outputs": [
        {
          "output_type": "execute_result",
          "data": {
            "text/plain": [
              "numpy.ndarray"
            ]
          },
          "metadata": {},
          "execution_count": 1
        }
      ]
    },
    {
      "cell_type": "markdown",
      "metadata": {
        "id": "8R12ThK_x2OE"
      },
      "source": [
        "np.array() 메서드는 넘파이의 다차원 배열 클래스인 np.ndarray 클래스를 생성한다."
      ]
    },
    {
      "cell_type": "code",
      "metadata": {
        "colab": {
          "base_uri": "https://localhost:8080/"
        },
        "id": "Jebq6ihSxQUv",
        "outputId": "603cebda-0013-4aa3-a457-7d3503247a6c"
      },
      "source": [
        "x.shape     # 형상 확인"
      ],
      "execution_count": 2,
      "outputs": [
        {
          "output_type": "execute_result",
          "data": {
            "text/plain": [
              "(3,)"
            ]
          },
          "metadata": {},
          "execution_count": 2
        }
      ]
    },
    {
      "cell_type": "code",
      "metadata": {
        "colab": {
          "base_uri": "https://localhost:8080/"
        },
        "id": "TR73PYj-xTGV",
        "outputId": "84c86e9a-0323-409b-ad15-d6bfb91783d3"
      },
      "source": [
        "x.ndim      # 차원 확인"
      ],
      "execution_count": 3,
      "outputs": [
        {
          "output_type": "execute_result",
          "data": {
            "text/plain": [
              "1"
            ]
          },
          "metadata": {},
          "execution_count": 3
        }
      ]
    },
    {
      "cell_type": "code",
      "metadata": {
        "colab": {
          "base_uri": "https://localhost:8080/"
        },
        "id": "VrhDUAMkxV5f",
        "outputId": "b49a8faa-2133-40e7-c836-ff90a013d2cb"
      },
      "source": [
        "W = np.array([[1, 2, 3], [4, 5, 6]])    # 행렬 생성\n",
        "W.shape     # 형상 확인 "
      ],
      "execution_count": 4,
      "outputs": [
        {
          "output_type": "execute_result",
          "data": {
            "text/plain": [
              "(2, 3)"
            ]
          },
          "metadata": {},
          "execution_count": 4
        }
      ]
    },
    {
      "cell_type": "code",
      "metadata": {
        "colab": {
          "base_uri": "https://localhost:8080/"
        },
        "id": "LyDjf4RmxfSA",
        "outputId": "bf18380a-7561-4cab-b395-96ab50fd8a65"
      },
      "source": [
        "W.ndim      # 차원 확인"
      ],
      "execution_count": 5,
      "outputs": [
        {
          "output_type": "execute_result",
          "data": {
            "text/plain": [
              "2"
            ]
          },
          "metadata": {},
          "execution_count": 5
        }
      ]
    },
    {
      "cell_type": "markdown",
      "metadata": {
        "id": "0rjWJeHAyHRJ"
      },
      "source": [
        "## 1.1.2 행렬의 원소별 연산"
      ]
    },
    {
      "cell_type": "markdown",
      "metadata": {
        "id": "XaLgbdsfzCsW"
      },
      "source": [
        "* 원소별 연산(elementwise)\n",
        "<br> 같은 위치의 원소끼리 연산이 이루어진다."
      ]
    },
    {
      "cell_type": "code",
      "metadata": {
        "colab": {
          "base_uri": "https://localhost:8080/"
        },
        "id": "iDASpq83xgMF",
        "outputId": "4c576f41-3724-45e7-d933-71cad1ae4d60"
      },
      "source": [
        "W = np.array([[1, 2, 3], [4, 5, 6]])\n",
        "X = np.array([[0, 1, 2], [3, 4, 5]])\n",
        "W + X"
      ],
      "execution_count": 6,
      "outputs": [
        {
          "output_type": "execute_result",
          "data": {
            "text/plain": [
              "array([[ 1,  3,  5],\n",
              "       [ 7,  9, 11]])"
            ]
          },
          "metadata": {},
          "execution_count": 6
        }
      ]
    },
    {
      "cell_type": "code",
      "metadata": {
        "colab": {
          "base_uri": "https://localhost:8080/"
        },
        "id": "U-xUaIpTysB8",
        "outputId": "506cbd73-9dde-4186-d3f0-427f16ffb3ae"
      },
      "source": [
        "W * X"
      ],
      "execution_count": 7,
      "outputs": [
        {
          "output_type": "execute_result",
          "data": {
            "text/plain": [
              "array([[ 0,  2,  6],\n",
              "       [12, 20, 30]])"
            ]
          },
          "metadata": {},
          "execution_count": 7
        }
      ]
    },
    {
      "cell_type": "markdown",
      "metadata": {
        "id": "mm1DKUARzeoV"
      },
      "source": [
        "##1.1.3 브로드캐스트"
      ]
    },
    {
      "cell_type": "markdown",
      "metadata": {
        "id": "LQMo8P6RzxZn"
      },
      "source": [
        "* 브로드캐스트\n",
        "<br> 형상이 다른 배열끼리도 연산이 가능하게하는 기능"
      ]
    },
    {
      "cell_type": "code",
      "metadata": {
        "colab": {
          "base_uri": "https://localhost:8080/"
        },
        "id": "9x7VY-WjytM1",
        "outputId": "7990e4b3-dcad-4515-ee10-0f943421ce23"
      },
      "source": [
        "A = np.array([[1, 2], [3, 4]])\n",
        "A * 10"
      ],
      "execution_count": 8,
      "outputs": [
        {
          "output_type": "execute_result",
          "data": {
            "text/plain": [
              "array([[10, 20],\n",
              "       [30, 40]])"
            ]
          },
          "metadata": {},
          "execution_count": 8
        }
      ]
    },
    {
      "cell_type": "markdown",
      "metadata": {
        "id": "jr0Ig50t0HM0"
      },
      "source": [
        "위의 코드를 보면 2x2행렬에 스칼라 값 10이 곱해졌다.\n",
        "<br>이 때 스칼라 값 10이 브로드캐스트 기능에 의해 2x2행렬로 확장된 후 elementwise 연산이 수행된다."
      ]
    },
    {
      "cell_type": "code",
      "metadata": {
        "colab": {
          "base_uri": "https://localhost:8080/"
        },
        "id": "l1mJVuKC0Axl",
        "outputId": "ae8e7ef6-98c2-4004-cb93-aceba24dbd15"
      },
      "source": [
        "A = np.array([[1, 2], [3, 4]])\n",
        "b = np.array([10, 20])\n",
        "A * b"
      ],
      "execution_count": 9,
      "outputs": [
        {
          "output_type": "execute_result",
          "data": {
            "text/plain": [
              "array([[10, 40],\n",
              "       [30, 80]])"
            ]
          },
          "metadata": {},
          "execution_count": 9
        }
      ]
    },
    {
      "cell_type": "markdown",
      "metadata": {
        "id": "1tirLpi00_mG"
      },
      "source": [
        "##1.1.4 벡터의 내적과 행렬의 곱"
      ]
    },
    {
      "cell_type": "markdown",
      "metadata": {
        "id": "eCNSUIYo1Hmm"
      },
      "source": [
        "* 벡터의 내적<br>\n",
        "두 벡터에서 대응하는 원소들의 곱을 모두 더한 것<br>\n",
        "Let $X = (x_1, x_2,\\dots,x_n)$, $Y = (y_1, y_2,\\dots,y_n)$. <br> \n",
        "Then $X \\bullet Y = x_1y_1+x_2y_2 + \\dots + x_ny_n$"
      ]
    },
    {
      "cell_type": "markdown",
      "metadata": {
        "id": "MGZy-TAF3p3m"
      },
      "source": [
        "NOTE\n",
        "<br> 벡터의 내적은 '두 벡터가 얼마나 같은 방향을 향하고 있는가'를 나타낸다.\n",
        "<br> 벡터의 길이가 1인 경우, 방향이 같을 경우 내적의 값이 1이고, 방향이 반대이면 내적의 값이 -1이다."
      ]
    },
    {
      "cell_type": "markdown",
      "metadata": {
        "id": "ECTKK7B34esB"
      },
      "source": [
        "* 행렬의 곱\n",
        "<br> 왼쪽 행렬의 행벡터와 오른쪽 행렬의 열벡터의 내적"
      ]
    },
    {
      "cell_type": "code",
      "metadata": {
        "colab": {
          "base_uri": "https://localhost:8080/"
        },
        "id": "dNT9jyea05uo",
        "outputId": "f37f7297-6d51-4954-cf52-39a8e34497d7"
      },
      "source": [
        "# 벡터의 내적(np.dot 메서드 이용)\n",
        "a = np.array([1, 2, 3])\n",
        "b = np.array([4, 5, 6])\n",
        "np.dot(a, b)    # 1*4 + 2*5 + 3*6 = 32"
      ],
      "execution_count": 10,
      "outputs": [
        {
          "output_type": "execute_result",
          "data": {
            "text/plain": [
              "32"
            ]
          },
          "metadata": {},
          "execution_count": 10
        }
      ]
    },
    {
      "cell_type": "code",
      "metadata": {
        "colab": {
          "base_uri": "https://localhost:8080/"
        },
        "id": "kDxWfl634vBP",
        "outputId": "7ba91b03-7ea6-488a-bb6c-b04406211f47"
      },
      "source": [
        "# 행렬의 곱(np.matmul 메서드 이용)\n",
        "A = np.array([[1, 2], [3, 4]])\n",
        "B = np.array([[5, 6], [7, 8]])\n",
        "np.matmul(A, B)     # 1*5 + 2*7 = 19\n",
        "                    # 1*6 + 2*8 = 22\n",
        "                    # 3*5 + 4*7 = 43\n",
        "                    # 3*6 + 4*8 = 50"
      ],
      "execution_count": 11,
      "outputs": [
        {
          "output_type": "execute_result",
          "data": {
            "text/plain": [
              "array([[19, 22],\n",
              "       [43, 50]])"
            ]
          },
          "metadata": {},
          "execution_count": 11
        }
      ]
    },
    {
      "cell_type": "code",
      "metadata": {
        "colab": {
          "base_uri": "https://localhost:8080/"
        },
        "id": "L385CLML5D8Z",
        "outputId": "d56a1e8d-e920-49ef-b7f3-233593f7050a"
      },
      "source": [
        "# 행렬의 곱(np.dot 메서드 이용)\n",
        "A = np.array([[1, 2], [3, 4]])\n",
        "B = np.array([[5, 6], [7, 8]])\n",
        "np.dot(A, B)     # 1*5 + 2*7 = 19\n",
        "                    # 1*6 + 2*8 = 22\n",
        "                    # 3*5 + 4*7 = 43\n",
        "                    # 3*6 + 4*8 = 50"
      ],
      "execution_count": 12,
      "outputs": [
        {
          "output_type": "execute_result",
          "data": {
            "text/plain": [
              "array([[19, 22],\n",
              "       [43, 50]])"
            ]
          },
          "metadata": {},
          "execution_count": 12
        }
      ]
    },
    {
      "cell_type": "markdown",
      "metadata": {
        "id": "zF84fjFm6o0b"
      },
      "source": [
        "##1.1.5 행렬 형상 확인"
      ]
    },
    {
      "cell_type": "markdown",
      "metadata": {
        "id": "rdAaXqjI6ud5"
      },
      "source": [
        "* 형상 확인\n",
        "<br> 행렬 A x 행렬 B = 행렬 C일 때,\n",
        "<br> 행렬 C의 형상은 (행렬 A의 행 수) by (행렬 B의 열 수)\n",
        "\n",
        "행렬의 곱에서는 대응하는 차원의 원소 수가 같아야 하므로 형상 확인이 매우 중요하다."
      ]
    },
    {
      "cell_type": "markdown",
      "source": [
        "# 1.2 신경망의 추론"
      ],
      "metadata": {
        "id": "nrnSBO2cD-2r"
      }
    },
    {
      "cell_type": "markdown",
      "source": [
        "##1.2.1 신경망 추론 전체 그림"
      ],
      "metadata": {
        "id": "jT_O0tFgWvne"
      }
    },
    {
      "cell_type": "markdown",
      "source": [
        "신경망은 입력층(input layer), 은닉층(hidden layer), 출력층(output layer)으로 이루어져 있다. \n",
        "\n",
        "각 층으로 향하는 화살표에는 (뉴런값 x 가충치 + b) 값에 활성화 함수를 씌운 값이 전달된다. (b는 편향, 생략가능)"
      ],
      "metadata": {
        "id": "IGsrijwcFNK6"
      }
    },
    {
      "cell_type": "code",
      "metadata": {
        "id": "44xU0VRE6iTv"
      },
      "source": [
        "# 완전연결계층에 의한 변환(미니배치 버전)\n",
        "\n",
        "import numpy as np\n",
        "W1 = np.random.randn(2,4)   # 가중치\n",
        "b1 = np.random.randn(4)     # 편향\n",
        "x = np.random.randn(10,2)   # 입력\n",
        "h = np.matmul(x,W1) + b1    # (입력x가중치+편향) 계산"
      ],
      "execution_count": 13,
      "outputs": []
    },
    {
      "cell_type": "markdown",
      "source": [
        "* np.random.randn(m,n)\n",
        "<br> 평균0, 표준편차1의 가우시안 표준정규분포 난수를 matrix array(m,n) 형태로 생성 및 출력"
      ],
      "metadata": {
        "id": "3tUsImPAMefk"
      }
    },
    {
      "cell_type": "markdown",
      "source": [
        "![image.png](data:image/png;base64,iVBORw0KGgoAAAANSUhEUgAAARMAAAC3CAIAAAC+MS2jAAAbNElEQVR4nO2dfVgTV77HfzEQCMaN4MtGRB5pa6nLFu0jFbWV24rtFrdKr/tsrX3BtYp2leu2vbpF8ZHqYq2rbrEFa6uuV2oVweUayy67iC4LayWx1UZEE6QEMJDI+5QpAxPncv847TQNL2qYYZLw+/zBw5mX33zPnPnmzJw5Z46sp6cHEAS5R0ZILQBBPBJ0DoK4AjoHQVwBnYMgroDOQRBX8BEvtM1my8vL6+zsFO8Qw5yAgAA8vaISEBCwZs2aPleJ6Jza2tqKioply5YJ2/Atk8nOnDkzf/58AWOSsEajUa1WazQawSOLJPjIkSOLFy9WqVSCRz5z5sxTTz0lRsHNnTvXz89PwLAAYLPZ6uvro6KiBH/F8tpvk1avXi2Xy3uvEtE5MpksODh45syZgkc2Go1RUVF95meQqNXq8PBwwcMaDIbo6GjBw545cyYiIkJwqwNAdXW1GAVnMBhmzZqlUCiEDWuxWFQqlRiCNT8d298qEZ0j3jvW6OhoMWwTGhqqVCoFDwsAMTExYoQFgNu3b4sR9pFHHhEjbExMjBgFN3r0aDF+7wZGROeIh0inSYwfb8LQl+sgEUmwSGFVKpXgt6x3BNvWEMQV0DkI4groHARxBXQOgrgCOgdBXMF151AUlZ2dbbFYHBdmZWWdPXuW/C+TyQYlDUHcGNed09raevHixXPnzvFLdu/ePXHixMuXL5eUlAihDUHcF9edExYWtmDBAsclZ8+ejY2N/dWvfqXX6wctDEHcGiGfc9RqtdOS8vJyrVbL39QRR9lsNpPJBAA6nY7jOIqiDAYDWcuyLE3TOp0OACoqKiiK4jiO1GBms9lmswEASdpsNrPZTJIsy1IUVVFRQYLQNM0wDIlpMBgoimJZlhy6oqLCZrPxSZPJZLFYOI4jR7RYLHxMcggSk+ikaZrsZTAYaJrm9zKZTI7CzGYzySzZi88syR2v02AwMAzD553EZBiGF0ZkO8V0yntDQ4OPj49T3vnckbwTJY46SdJsNpMgZGOLxcLrJLId805RlGPeGYYhSpzybrFYeJ2OedfpdAzD0DTNFzRFUXwZkYImwflCoSgo+txAUaDX1+j1NXV1cOjQ+StX4C9/sWZmVhYUQHLy+SNHID29beNGQ3o6bNxo2LkTtm+HjRsN5O/Gje2bNkFy8vlNmyA5+cbGje0bNsChQ+cdC1qn07Es61hGpFD0ev3Zs2e1Wq25xtJfpweZy31kGIY5fPhwQ0NDcnLytWvXQkND8/LywsPDy8rK5s6dGxMTo9PpioqKUlJSXIuP3JHt27cvW7YsJCREaiGuYLeD1QrV1dDUBM3N8M03cPs2WCzQ0QEUBd3dEBAAvr4QFARjxsDIkRAUBAEBEBAApLcA6fsml4Nj99GAAAAAmQwce8aRhQS1Gnr9vA9EXFxcfn6+wD0+KYoKCgoKCgpqamoivV/XrFmTnZ1NbONyWMT7oCioqYHKSqivB4MBqqpAqYSwMLjvPggMhMBAmDoVNBoYOxbUavD1lVru3eG6czQazQsvvOC0sPcSZBhCUVBbC/X1UFAAVitMngxjx8LkyfDMM/Daa0B+wT3FIf3hkT0+ETeE47jGRvlXX8G5c9DdDSoVzJ0L69ff8w2Sp4DOQQZLVxdotXDunPzbbyE+HlasgIceklqT+KBzENe5cAGyssBigYQE2LsX/P2lFjSEoHOQe8Zuh6IieO89WLAAtmyBCROkFiQF6BzkHiCeycmB2bMhN9c7H2DuEnQOcrcYjZCWBo89Bunpw9ozBHRO39A0vXfv3hUrVog3xNqDsNvhj3+EqipIT4ex/X7TYniBowz6oKy08K233tr83gGRvo/hWVy4AL/8JcybB4cPo21+AOucPvj5I3My5z79+QW93W6XWovEfPgh3Lw53B9p+gTrnD4Y+g+puCEUBRs2QEAAvPMO2qYP0DlIHzQ3w8svw+LFsGyZ1FLcFbxb6xe5j8LX0ztXuURdHcTHw5kz+FQzEFjn9AEZKP7lxc//J/szp+HiXs+VK7ByJej1aJs74C7OISOKHJdYLJasrCyGYRwXVlRUaLVascXI5fKpU6cajcaFT83x8RlG1bLBAH/4A/z1rx7fkXkIcBfnZB/al5OTwycpilq/fv28efOcPvQcERFBUdS+fftEFaNSqaZNmxYeHj5t2rTh8z7HaITUVPjkE7TNXeEWzmFZ9ovr1WERP3yLftOmTVu3buVHO5JBwhzHAUBCQkJJSQkZ64sIhdUKiYmQmzu8em0OBolvRTiOS01NZRim8HQeAJgrpicmJjIMs2/fvszMTABgGGb+Y4/85rf//ffPcvzGhx87mAEAiYmJp06dioiIIEEYhsnNze3u7ubD2u32l156qfd3EZA+aW6G55+H/Hysbe4BiZ2T9WG6/+iJv0t69l+lZZmZmTKZbOHChUqlcvojUfw2WzNOTBrjn33670feTiZLxo4dW15ezm8gl8vDw8OdnOM0SQtN05cuXRI1L3a7fc6cOSLNIyIeXV2wYQMcOIAvbe4NiZ3z6n+tZ5iery4Wznp6cZ8bKJXKWZH3jxo1qrq6ur9PVZDPrDi2JbAsK5P96Aqmafrq1asCKu9NZ2dnVFSUxzlnzx54/vlhMRZNWCR2TjBAdzcUfPbX5557tay0cOmKtePGjWNZ9qvLX5ANGIb5RUxUZeXNW5Zrvr6+xDwURT3wwAMDhFUoFLdv0wA/dAXQaDT9Tfg4nPn4YwgKgrg4qXV4IBI7529ffbV69QtfGSpMdbcmTpx46INdcrlcqVQuWbLEbDaHhYW9m5rsPzFCq83OzvnfU3knyF4nTpxYtWoVH0SpVMbHx9/lEcmXvgRsMaNpuqmpSalUSjL/0WC4cgWuXoX335dah4fSIxplZWVpaWl33KzRWrdkyRKr1eq4sLq6es2aNe3t7R0dHe3t7VartaOjg6wi33C7ffv2veq5ffv2qVOnHgjRHMr5W58bZGZmdnZ23jFIpwM9PT1paWmZmZkPhGgqK2/eq6RBkpaWdvOmiwdlmJ7HH+9pbxdWkbfxzDPP9HelSd8qba6zjlCNdaoEwsLCVq1adeDAAblcTuaLJj/nBoPh8uXLW7ZscWG6ydamBpVKtSbx5f42WLt2LcuyvZdzHKfX68lXIauqqtY7AABJSUnK/2M2/unPU6Z40hcDt22DjAxsFXAd6V+QT58+/dAHD/dePm3atGnTpt3NwrtknGZSrGbSlfN/72+DqZNCe0+bTNP0okWLUlJSkpOTP/ooKzw8nDSX8xw4cGD8+PHTHgx2TZUkFBQAALh6IhEAd3CO4HN83ytarXb//v1qtfr6zbrly5cDwM+j/mPz+t+Stbu2pSxdunSkgpONDBw1yvl0mUwmq9UKAAdyizI85Eq0WuHTT+HoUal1eDjSO0dyYmNjo6OjVSrVlc8v7NixIygoiF9F03RR0T9+M+XnNfWteUf/3PvVanh4+J49eziOE2OycpHYtg02b5ZahOcj/XPOUMKybDvNAgDpyENQqVTkOYq6WTdu3Di1Ws07hOO4b1rrXnklMTo6uoDc4vSFB9mmoADCw/HtjQAMozqHYZh3U5P15ZX68sqG2hr+fownIETj6CgAUKvVBz45NXvOo/OejNmwYcMQihWLTZsAJzcShGHkHKVSufWPewfY4MZNa++Fs+Y+ffnS06KJGlLWrYMjR7BzmjAMr7u14cyVK2C3Q2Sk1Dq8hWFU5wxn7HbIzITt26XW4UVgnTMsOHUKZszAAdJCgnWO90NRkJMDn3witQ7vAusc7ycjA958Ewd7Cgw6x8tpbobr12HmTO7OmyL3AjrHy9m5EzZv9qR3tZ4COsebqauD5mbsMSAK6BxvZscO2LpVahFeCjrHazEYIDAQQkOl1uGloHO8lv374bXXpBbhvaBzvJMLFyAkBCscEcE3od5JaiocOya1CK8G6xwvpLgYFizAvjbignWOF7JnDw6WFh2sc7wNgwFmzcKP2ogOOser4Dhu1y5ISpJaxzAAneNV6PXyqVOxwhkK0DlexfHj8MorUosYHqBzvAeDAVQqfIczRKBzvIddu7DTwNCBzvESjEYIDcUKZ+hA53gJ+/ZhhTOkoHO8geZmaG3FCmdIQed4A3/6E3jFF0g9iTv0vjGbzdXV1U1NTcHBwQ8++KCAU50hQtHcDNeu4ZQeQ81AztHpdDRNk8nTGYbR6XSRkZFhYWFDpQ25M34+PUePwuuvS61j+DGQcyIjIxUKhdVqHT9+PMMw8fHxNE07bsCyLMdx/GzMHMeRCaKVSiV+MmJoaO+QXb+OzpGAgZ5zlEolwzCnT59ubGzMyMigKMpxBlmKohISEpYvX24wGMiS4uLilStX7t27t6mpCQBkMpmo0hE/P79Dh5jnnpNax7Dkzi0E4eHhPj4+kyZNcpp3KScnZ82aNQcPHszNzSVLaJqOiop67rnnyONQT0+PGIoRHpWqu7RU+eSTUusYlgzkHFLJxMbGajSaxYsXcxzneLfW2Njo7+9P6iUy7Ux0dHRMTMypU6fOnj0LADKZrKGhwWQyGQwGiqIAwGKxAABN0zabjU8yDMMnOY5jWZYst9lsJDKZ2paiKHJ0Pklims1mcpfIB2FZlmVZkuSD8DFpmnZM8kGcYjrpdBJGblPJZiTmXQZx0sknScwB8t5nTKax/c035b6+nGNMx9yRm2enzJIkH5NPOhZK7zK617yTq6XPQrFYLE6FMkAZOeWd10mSThdP77zzOvssaLJX7zKyWCwmk6mioqK7u7s/dwz0nEMmwYyMjFQqlS0tLVVVVZGRkfwN2/3332+1Wq1WK3mqYVl23LhxGo1GrVafPHkyNjYWAPz9/UeOHAnfz2rm4/Pd4cijEZ/8Tsr3SfIP/7Dk++MJX0hSLpcTu5JQcrncMabjU5bjofmYTkk+SH8xySonwWRtb52OMXtn1jFmH+XxvTDHjfmYfN7J8jdTFY3W2/yjptMJ7B3TqRQc1/Y+gU7Ju8k7nyNfX1+5XN77BPJHHEAJiel4RKcy4g/teMTeeXfcq7+CHiCzI0eOtNvtvQuIRzbwPZXNZqusrGxra5swYcLPfvYzx+cchmHWr1/f0tKyY8eO6upqX19fu92el5fX0tKSnp6u0Wh0Ol1RUVFKSsoA8RGXMRhg+vSURutr4zSTpNbitcTFxeXn5/f9GzfAbqTia2ho6OjomDBhgqNtAECpVPLzm/NN1aSqQcSG47i0NHlaWkD3bWyGkYaBnnNGjx7d0NCgVCrnz59vtVrJXeCQKUMG4OpV+WOPwZgxUusYxgzkHJVKNWPGDABobGxkGIaiKJZlh0oYMhCHDsGSJdDSIrWOYcwdWqXlcnlcXBxN00888URERAT/wIpIiNEIADBhgtQ6hjd3/mqUQqHApxe3Yu9e+N3vpBYx7MG+0h6G0QgqFU7sIT3oHA8jKwu/0eEWoHM8CYqCGzcgIgJbOKUHneNJkLlysR+6O4DO8RgoCv71L5g9W2odCACgczyIY8fgrbekFoF8DzrHM2huhnPnAN8OuA/oHM8gLw9efVVqEYgD6BwPgKLgwgWYP19qHYgD6BwP4NgxePll+PEwJURi0Dnujt0O//gHPPaY1DqQH4POcXcOH4bVq8HfX2odyI/BeULdmq4u+OQTKC2VWgfSC6xz3Jr9++Htt6UWgfQFOsd9sVrh/Hl8h+OmoHPcl6wsWLtWahFIP6Bz3JS6OqiuhieekFoH0g/oHDdl92544w2pRSD9g85xR3Dgp/uDrdLuSHIyHDwotQhkQLDOcTuKi2H2bBg7VmodyIBgneNedHXBO+9AYaHUOpA7gXWOe5GVhQ0DngE6x42oq4MLFyAuTmodyF2AznEjUlNxvLTHgM5xFwoKYOZMbIn2GLCFwC0gDQNnzkitA7lrsM5xC7Ztg4wMHITjSaBzpOfCBbDbYdo0qXUg9wLerUkMRcHOnfD99N6Ix4B1jsT8/vfw7rv4dQ7PA50jJUeOwJw52J7mkeDdmmQYjZCfj/dpngo6RxooCpYuBb1eah2Iq+DdmgTY7bB2LRw/jo83Hgw6RwJSU+Gll/DxxrNB5ww1H34Ikydjt06PB50zpOTmws2bsGqV1DqQQYMtBENHQQEUFcFHH0mtAxECrHOGiIICKChA23gPWOcMBbm5oNfDnj1S60CEA50jOunp0NgIu3ZJrQMRFLxbExG7HVavhsBAeOcdqaUgQoN1jlgYjbBzJ6xahfOweyfoHFEoKICcHNi6FUJDpZaCiAM6R2AoCpKTISQEDh+WWgoiJugcITlyBE6ehF27sGeN94MtBALAcVxxMSxcCAEBkJeHthkWYJ0zKLq64Px5yMmR33cfHD0KarXUgpChAp3jIl1dcOIEnDwJsbHw9tswYYLUgpChBZ1zb3AcV1wsP3kSLBZYswY++0xqQYhEoHPuCqMRzGbIyQEA+ezZsGULVjLDHXROH3Ac19Ym7+yEigooLQWaBj8/mDkTtm6FCRNwICcCMBjn0DT97rvvKpXKDRs2KBQKALDZbBkZGcHBwcuXL1cqlTKZTDidImK3A8cBTcONG1BeDk1NcOuWvK4OpkyBefNgyRKYPBkf/RFnXHfO/v37Fy1a1NHRceTIkcTERADIyMhISkrS6XSFhYXx8fE9PT3C6RwsFAUUBW1t0NwMra3Q2QltbVBdDWYztLfD6NHw8MMQHg6TJkFMDNx/P1YsyB1w3Tnt7e2hoaEMw5SVlZElX375pUajiYyMPHbsWHx8vEwmYxiGoiiGYYKCghQKBUVRarWaZVmWZVUqlWOyo0PV1ATffgsAEBAAnZ3fHaW7G/z8fvjLcRAQAO3t36395hsYMQKam6G7G7q7ob4e/PzAagWK+m5fAFCrISgI/Pzgpz8FHx8IDITAQHjwQQgMhMmTYcQIVqFQ0DStUqk4juM4rj+dHMcxDKNSqWiaViqVcrmcLKdpWqFQ8HsxDAMASqWSD8JxnGOSxCRBAMAxJgDQNN1nTLlc7iiMxCQngRdGUZRKpRpAmGOQu9TZZ955nXcfU6VS9c4sn3TUeU/n0ynvjifQsYz6O4G9M8vrJJEHuP4H9SaUYZhO/hoHIDnp7OwcP348WVJVVfXFF1/odLrW1lYAqKmpAYDW1tb6+no+yTBMfX19TQ0cP24oKQGdDv7978qSErh0qVKna7t+HS5dKqushKtXa2/cqG1uhmvXzgNAZ6e1s9P60EMwYsTFJ5+EZ56BJ5+s2bIFfvGfhvR0OHoU0tIMp0/De+9VHDxIffABu3atKSUFXl1288UX6V//Gn7yk4qHHgKr1dza2spx3LVr1wCgqampsbERAIxGIy8MAEwmEzmPtbW1AFBbW0vOrMlkInuRU0z2amlpoSiK36u1tdVms5HMsizLx6ytrSVJPiYpP3JOSEyWZckhWlpayAkkh+Bjtra2+vj48DHJIfgg9fX1RBgJYrPZHEuhpaWlpaXFsVB4nY55r6mpIXn/+uuveZ183m02W595NxqNZC+nvDudQJIkOh3zTgrFSSc5Iq+TJGmaJkGITn6v+vp6mqZ7550Pwued6HTMLIlJrlvbrWa5XN7nxS9z+Z5Kp9Pl5OR0dXWtW7fOaDRGRkZWV1eXlZU1NDSsW7cuPDxcp9MVFRWlpKS4Fh+5I9u3b1+2bFlISIjUQryWuLi4/Pz8Ps3j+t1adHT0+PHjfX19Q0JCNBqNQqEICwvTaDRjxozRaDSDUIsgHsCgWqXDwsLIP+rv254iIiIGqwhBPAHs8YkgroDOQRBXQOcgiCugcxDEFdA5COIK6BwEcQWPdI7BYOA4TvCwFouFvJ8WHIPBIEZY8aioqBAjrEgFR1GU2WwWPOzAeKpz+usTMRgaGhpI5xHBEc85Pj6ijBMpLy8XI6xI56Gjo6O6ulqMyAMg7vic8vJynU7XTbpeCkdlZWVJSYmwMQHAZDKNGjXq1q1bwob18/MTQ7Cfn19DQ4NOpwsMDBQ2MgB8/fXXYpzhysrK4uJiX6E7ore1td24cUPwsABgrrH0t8r1fmt3hKKogoIClmUFj6xQKEQKCwAoGMQULEZY8SKr1er4+Pg+V4noHATxYkR/zmFZVqvVivHkbbFYtFot6UwuLBRFCS7YZrNptVphH2T1er3gj/Icx5WUlIhxqwYALMuK8ShPUZQY19jAl664zmFZ9o033lCpVMuXLxf24dtgMOzfv1+lUrXzw9wEguO41atXfyb0V210Oh0AbNy4kQwRGTwlJSWnT58+fvy4sFe51WqtqakxmUy7d+8WMCxh27Ztgoe12Wzbtm0LDAwkQ26EgmXZhISEwMDA119/vU/zCO8c1gG5XB4cHAwA99133yBbwziO48MCQG5uLgD885//HDVqlICCAeDTTz9dunSp3W4fZFhHwRzHxcfHx8fHR0VFCfULUlhYuGHDhhUrVmi1WkECEkJCQhISEmJiYgT/SSopKXn00UfJ9SAgxcXFXV1dhYWFAQEBAoaVy+UPP/yw3W4fM2YMP/zWEYHb1liWff/99/mTnpSUxDCMr6+vv78/GbHscuT8/PyLFy8CAMMwCQkJbW1tixcvVqlUBw4cWL9+vcthbTbboUOHyMDG0aNHx8XFGQyGBQsWNDQ0uByzt+AlS5bMnDlTp9O1t7fPnDlzkJF5SAuBGKSmpgpbOdA0vW/fvq1btxYWFg7ySnCitbV1+vTpCxcu3LVr1x7hpsUjY0XJpcswjLrXN1wEdo5CoXC8jm0225dffpmWllZaWnrr1q3BjHgjv9l8kgwE8vf3H2STt0ajcRy1SlFUTEzM5cuXq6qqWJYdzKXpJFiv12dlZWVmZg5GrSPBwcEXL1602+0PCfoda5Zl4+Pj9+3bJ+xQU4VCkZiYePny5evXrwvrnBkzZpSWliqVyq6uLqFiAkBra+vnn38+wKUretuaXq8/ceJETExMf617rsFx3EcffdTW1pacnCz4W1GbzVZXVydg5QAAWq22vr6+ra3txRdf5EcEDpLt27cHBgauXLlSwMrHYrFkZ2cDwJQpU4QtMsLZs2djY2OFjZmdnX316tWkpCRhByMbDIasrKyYmJhnn3229zWGrdII4goe2fsGQSQHnYMgroDOQRBXQOcgiCvgXAaeitlsLi0tVSgUjz/+OH6scOjBOsdTUSqVM2bM+Pjjj78lX+NGhhZslfZgNm/evGjRImHfOyF3CdY5nopWq62qqrJarRZLv6OvEPHAOsdToSiKfJ9/3LhxAnZmQe4SdA6CuALerSGIK6BzEMQV0DkI4groHARxBXQOgrjC/wNSMM08CfdnbwAAAABJRU5ErkJggg==)"
      ],
      "metadata": {
        "id": "yh3RyIYINwZP"
      }
    },
    {
      "cell_type": "markdown",
      "source": [
        "시그모이드 함수\n",
        "* '비선형' 활성화 함수\n",
        "* 임의의 실수를 입력받아 0에서 1 사이의 실수를 출력"
      ],
      "metadata": {
        "id": "awdSujG4Nxto"
      }
    },
    {
      "cell_type": "code",
      "source": [
        "def sigmoid(x):\n",
        "    return 1/(1+np.exp(-x))"
      ],
      "metadata": {
        "id": "QaxO2PgDMdeW"
      },
      "execution_count": 14,
      "outputs": []
    },
    {
      "cell_type": "code",
      "source": [
        "# 위에서 완전연결계층에 의해 변환된 은닉층 뉴련을 변환시켜보자.\n",
        "a = sigmoid(h)      # 출력된 a를 활성화(activation)이라고 한다."
      ],
      "metadata": {
        "id": "IshhGM7pLwul"
      },
      "execution_count": 15,
      "outputs": []
    },
    {
      "cell_type": "code",
      "source": [
        "# 지금까지의 과정을 총 정리해보자.\n",
        "x = np.random.randn(10,2)\n",
        "w1 = np.random.randn(2,4)\n",
        "b1 = np.random.randn(4)\n",
        "w2 = np.random.randn(4,3)\n",
        "b2 = np.random.randn(3)\n",
        "\n",
        "h = np.matmul(x,w1)+b1      # h:(10,4)\n",
        "a = sigmoid(h)\n",
        "s = np.matmul(a,w2)+b2      # s:(10,3)"
      ],
      "metadata": {
        "id": "3mA3SoayOxDE"
      },
      "execution_count": 16,
      "outputs": []
    },
    {
      "cell_type": "markdown",
      "source": [
        "s의 형상은 (10,3)으로 배치 사이즈가 10인 뉴런이 3개 존재한다는 뜻이다.\n",
        "\n",
        "출력된 3차원 벡터의 각 차원은 각 클래스(뉴런)에 대응하는 '점수(score)'가 된다.\n",
        "<br> 만약 분류 문제였다면, 출력층에서 가장 큰 값을 내뱉는 뉴런에 해당하는 클래스가 예측 결과가 되는 것이다.\n",
        "> 여기서 점수란?\n",
        "<br> 확률이 되기 전의 값을 뜻하며, softmax 함수에 입력하게되면 확률값을 얻을 수 있다.\n",
        "\n"
      ],
      "metadata": {
        "id": "PGsZTnlIQGds"
      }
    },
    {
      "cell_type": "markdown",
      "source": [
        "## 1.2.2 계층으로 클래스화 및 순전파 구현"
      ],
      "metadata": {
        "id": "ZjSYlL4WXSwj"
      }
    },
    {
      "cell_type": "markdown",
      "source": [
        "신경망에서 하는 처리를 계층(layer)으로 구현해보자.\n",
        "* 규칙\n",
        "<br> 모든 계층은 forward()와 backward() 메서드를 가진다.\n",
        "<br> 모든 계층은 인스턴스 변수인 params와 grads를 가진다."
      ],
      "metadata": {
        "id": "j7UezfFcXakh"
      }
    },
    {
      "cell_type": "code",
      "source": [
        "# 시그모이드 계층\n",
        "import numpy as np\n",
        "\n",
        "class Sigmoid:\n",
        "    def __init__(self):     # 생성자\n",
        "        self.params = []    # 학습하는 매개변수가 따로 없기 때문에 빈 리스트로 초기화\n",
        "    \n",
        "    def forward(self, x):\n",
        "        return 1/(1+np.exp(-x))"
      ],
      "metadata": {
        "id": "DDOdbNUWP9Yc"
      },
      "execution_count": 17,
      "outputs": []
    },
    {
      "cell_type": "code",
      "source": [
        "# Affine 계층\n",
        "class Affine:\n",
        "    def __init__(self, W, b):\n",
        "        self.params = [W, b]    # 학습하는 가중치, 편향을 리스트에 저장\n",
        "    \n",
        "    def forward(self, x):\n",
        "        W, b = self.params\n",
        "        out = np.matmul(x, W) + b\n",
        "        return out"
      ],
      "metadata": {
        "id": "5hUsZS8-ZO2N"
      },
      "execution_count": 23,
      "outputs": []
    },
    {
      "cell_type": "code",
      "source": [
        "class TwoLayerNet:\n",
        "    def __init__(self, input_size, hidden_size, output_size):\n",
        "        # 3개의 계층 생성        \n",
        "        I, H, O = input_size, hidden_size, output_size\n",
        "\n",
        "        # 가중치와 편향 초기화\n",
        "        W1 = np.random.randn(I, H)\n",
        "        b1 = np.random.randn(H)\n",
        "        W2 = np.random.randn(H, O)\n",
        "        b2 = np.random.randn(O)\n",
        "\n",
        "        # 계층 생성\n",
        "        self.layers = [\n",
        "                       Affine(W1, b1),\n",
        "                       Sigmoid(),\n",
        "                       Affine(W2, b2)\n",
        "        ]\n",
        "\n",
        "        # 모든 가중치를 리스트에 모은다.\n",
        "        self.params = []\n",
        "        for layer in self.layers:\n",
        "            self.params += layer.params     # * 리스트 덧셈 연산\n",
        "\n",
        "    def predict(self, x):\n",
        "        for layer in self.layers:\n",
        "            x = layer.forward(x)\n",
        "        return x"
      ],
      "metadata": {
        "id": "Du8qD5ZLZoyn"
      },
      "execution_count": 24,
      "outputs": []
    },
    {
      "cell_type": "code",
      "source": [
        "# * 리스트 덧셈 연산\n",
        "a = [1,2,3]\n",
        "b = [4,5,6]\n",
        "a+b"
      ],
      "metadata": {
        "colab": {
          "base_uri": "https://localhost:8080/"
        },
        "id": "oEtsPxied_u3",
        "outputId": "8ab6bad5-b322-4476-9b68-dbad69a5bfcb"
      },
      "execution_count": 25,
      "outputs": [
        {
          "output_type": "execute_result",
          "data": {
            "text/plain": [
              "[1, 2, 3, 4, 5, 6]"
            ]
          },
          "metadata": {},
          "execution_count": 25
        }
      ]
    },
    {
      "cell_type": "code",
      "source": [
        "x = np.random.randn(10,2)\n",
        "model = TwoLayerNet(2,4,3)\n",
        "s = model.predict(x)\n",
        "print(s)    # 입력 데이터 x에 대한 점수 리스트"
      ],
      "metadata": {
        "colab": {
          "base_uri": "https://localhost:8080/"
        },
        "id": "nfktg0bTeGnK",
        "outputId": "62427a09-31d6-4896-e96f-5549337b24c8"
      },
      "execution_count": 26,
      "outputs": [
        {
          "output_type": "stream",
          "name": "stdout",
          "text": [
            "[[-1.22672017 -1.19408442 -1.65762946]\n",
            " [-1.20314133 -0.60218903 -1.65398991]\n",
            " [-1.25501671 -1.45117664 -1.58109269]\n",
            " [-1.32123613 -1.24802335 -1.60141779]\n",
            " [-1.36501467 -1.50412118 -1.47293663]\n",
            " [-1.36279343 -1.58166129 -1.54309682]\n",
            " [-1.3981711  -1.29831917 -1.58382528]\n",
            " [-1.31839944 -1.80982174 -1.49940164]\n",
            " [-1.42781745 -2.25860886 -1.40086185]\n",
            " [-1.77309146 -2.72748942 -1.23610424]]\n"
          ]
        }
      ]
    },
    {
      "cell_type": "code",
      "source": [
        ""
      ],
      "metadata": {
        "id": "rpTBAPEgff8A"
      },
      "execution_count": null,
      "outputs": []
    }
  ]
}
